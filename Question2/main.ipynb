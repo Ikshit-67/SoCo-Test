{
 "cells": [
  {
   "cell_type": "markdown",
   "metadata": {},
   "source": [
    "# Q.2 Product data analysis"
   ]
  },
  {
   "cell_type": "markdown",
   "metadata": {},
   "source": [
    "## Importing Libraries"
   ]
  },
  {
   "cell_type": "code",
   "execution_count": 2,
   "metadata": {},
   "outputs": [],
   "source": [
    "import numpy as np\n",
    "import pandas as pd\n",
    "import matplotlib.pyplot as plt\n",
    "import seaborn as sns"
   ]
  },
  {
   "cell_type": "markdown",
   "metadata": {},
   "source": [
    "## Reading Data"
   ]
  },
  {
   "cell_type": "code",
   "execution_count": 3,
   "metadata": {},
   "outputs": [
    {
     "data": {
      "text/html": [
       "<div>\n",
       "<style scoped>\n",
       "    .dataframe tbody tr th:only-of-type {\n",
       "        vertical-align: middle;\n",
       "    }\n",
       "\n",
       "    .dataframe tbody tr th {\n",
       "        vertical-align: top;\n",
       "    }\n",
       "\n",
       "    .dataframe thead th {\n",
       "        text-align: right;\n",
       "    }\n",
       "</style>\n",
       "<table border=\"1\" class=\"dataframe\">\n",
       "  <thead>\n",
       "    <tr style=\"text-align: right;\">\n",
       "      <th></th>\n",
       "      <th>Product_name</th>\n",
       "      <th>Product_id</th>\n",
       "      <th>Product_Category</th>\n",
       "      <th>price</th>\n",
       "      <th>Professional_Publication</th>\n",
       "      <th>Region_address</th>\n",
       "      <th>Local_address</th>\n",
       "    </tr>\n",
       "  </thead>\n",
       "  <tbody>\n",
       "    <tr>\n",
       "      <th>0</th>\n",
       "      <td>\"chambre a coucher \"</td>\n",
       "      <td>\"40008817\"</td>\n",
       "      <td>\"Meubles et décoration \"</td>\n",
       "      <td>1800</td>\n",
       "      <td>\"private\"</td>\n",
       "      <td>\"Grand Casablanca\"</td>\n",
       "      <td>\"Casablanca\"</td>\n",
       "    </tr>\n",
       "    <tr>\n",
       "      <th>1</th>\n",
       "      <td>\"Comte free fire\"</td>\n",
       "      <td>\"40008816\"</td>\n",
       "      <td>\"Jeux vidéo et consoles \"</td>\n",
       "      <td>0</td>\n",
       "      <td>\"private\"</td>\n",
       "      <td>\"Grand Casablanca\"</td>\n",
       "      <td>\"Casablanca\"</td>\n",
       "    </tr>\n",
       "    <tr>\n",
       "      <th>2</th>\n",
       "      <td>\"Iphone 6 plus\"</td>\n",
       "      <td>\"40008815\"</td>\n",
       "      <td>\"Téléphones \"</td>\n",
       "      <td>0</td>\n",
       "      <td>\"private\"</td>\n",
       "      <td>\"Grand Casablanca\"</td>\n",
       "      <td>\"Casablanca\"</td>\n",
       "    </tr>\n",
       "    <tr>\n",
       "      <th>3</th>\n",
       "      <td>\"Renault \"</td>\n",
       "      <td>\"40008814\"</td>\n",
       "      <td>\"Voitures \"</td>\n",
       "      <td>0</td>\n",
       "      <td>\"private\"</td>\n",
       "      <td>\"Chaouia-Ouardigha\"</td>\n",
       "      <td>\"Settat\"</td>\n",
       "    </tr>\n",
       "    <tr>\n",
       "      <th>4</th>\n",
       "      <td>\"PS3 SLIM 360 GB \"</td>\n",
       "      <td>\"40008812\"</td>\n",
       "      <td>\"Jeux vidéo et consoles \"</td>\n",
       "      <td>1400</td>\n",
       "      <td>\"private\"</td>\n",
       "      <td>\"Rabat-Salé-Zemmour-Zaër\"</td>\n",
       "      <td>\"Sala Al-Jadida\"</td>\n",
       "    </tr>\n",
       "  </tbody>\n",
       "</table>\n",
       "</div>"
      ],
      "text/plain": [
       "           Product_name  Product_id           Product_Category  price  \\\n",
       "0  \"chambre a coucher \"  \"40008817\"   \"Meubles et décoration \"   1800   \n",
       "1     \"Comte free fire\"  \"40008816\"  \"Jeux vidéo et consoles \"      0   \n",
       "2       \"Iphone 6 plus\"  \"40008815\"              \"Téléphones \"      0   \n",
       "3            \"Renault \"  \"40008814\"                \"Voitures \"      0   \n",
       "4    \"PS3 SLIM 360 GB \"  \"40008812\"  \"Jeux vidéo et consoles \"   1400   \n",
       "\n",
       "  Professional_Publication             Region_address     Local_address  \n",
       "0                \"private\"         \"Grand Casablanca\"      \"Casablanca\"  \n",
       "1                \"private\"         \"Grand Casablanca\"      \"Casablanca\"  \n",
       "2                \"private\"         \"Grand Casablanca\"      \"Casablanca\"  \n",
       "3                \"private\"        \"Chaouia-Ouardigha\"          \"Settat\"  \n",
       "4                \"private\"  \"Rabat-Salé-Zemmour-Zaër\"  \"Sala Al-Jadida\"  "
      ]
     },
     "execution_count": 3,
     "metadata": {},
     "output_type": "execute_result"
    }
   ],
   "source": [
    "df = pd.read_csv(\"Cleaned.csv\")\n",
    "df.head()"
   ]
  },
  {
   "cell_type": "markdown",
   "metadata": {},
   "source": [
    "## Columns"
   ]
  },
  {
   "cell_type": "code",
   "execution_count": 4,
   "metadata": {},
   "outputs": [
    {
     "name": "stdout",
     "output_type": "stream",
     "text": [
      "Total number of columns :  7\n"
     ]
    },
    {
     "data": {
      "text/plain": [
       "Index(['Product_name', 'Product_id', 'Product_Category', 'price',\n",
       "       'Professional_Publication', 'Region_address', 'Local_address'],\n",
       "      dtype='object')"
      ]
     },
     "execution_count": 4,
     "metadata": {},
     "output_type": "execute_result"
    }
   ],
   "source": [
    "print(\"Total number of columns : \",len(df.columns))\n",
    "df.columns"
   ]
  },
  {
   "cell_type": "markdown",
   "metadata": {},
   "source": [
    "Here, we can see that there are total of 7 columns"
   ]
  },
  {
   "cell_type": "markdown",
   "metadata": {},
   "source": [
    "## Basic info"
   ]
  },
  {
   "cell_type": "code",
   "execution_count": 5,
   "metadata": {},
   "outputs": [
    {
     "name": "stdout",
     "output_type": "stream",
     "text": [
      "<class 'pandas.core.frame.DataFrame'>\n",
      "RangeIndex: 24 entries, 0 to 23\n",
      "Data columns (total 7 columns):\n",
      " #   Column                    Non-Null Count  Dtype \n",
      "---  ------                    --------------  ----- \n",
      " 0   Product_name              24 non-null     object\n",
      " 1   Product_id                24 non-null     object\n",
      " 2   Product_Category          24 non-null     object\n",
      " 3   price                     24 non-null     int64 \n",
      " 4   Professional_Publication  24 non-null     object\n",
      " 5   Region_address            24 non-null     object\n",
      " 6   Local_address             24 non-null     object\n",
      "dtypes: int64(1), object(6)\n",
      "memory usage: 1.4+ KB\n"
     ]
    }
   ],
   "source": [
    "df.info()"
   ]
  },
  {
   "cell_type": "markdown",
   "metadata": {},
   "source": [
    "#### 💡 Key findings :\n",
    "* ##### There are total of 24 entries in the dataset.\n",
    "* ##### Price columns has only 21 entries, which means 3 entries in the price column are missing.\n"
   ]
  },
  {
   "cell_type": "markdown",
   "metadata": {},
   "source": [
    "## Cleaning price column"
   ]
  },
  {
   "cell_type": "markdown",
   "metadata": {},
   "source": [
    "#### ⛔️ Two things need to be done with the price column :\n",
    "* ##### Remove the blank space between the price. (1800 instead of 1 800)"
   ]
  },
  {
   "cell_type": "code",
   "execution_count": 6,
   "metadata": {},
   "outputs": [
    {
     "data": {
      "text/html": [
       "<div>\n",
       "<style scoped>\n",
       "    .dataframe tbody tr th:only-of-type {\n",
       "        vertical-align: middle;\n",
       "    }\n",
       "\n",
       "    .dataframe tbody tr th {\n",
       "        vertical-align: top;\n",
       "    }\n",
       "\n",
       "    .dataframe thead th {\n",
       "        text-align: right;\n",
       "    }\n",
       "</style>\n",
       "<table border=\"1\" class=\"dataframe\">\n",
       "  <thead>\n",
       "    <tr style=\"text-align: right;\">\n",
       "      <th></th>\n",
       "      <th>Product_name</th>\n",
       "      <th>Product_id</th>\n",
       "      <th>Product_Category</th>\n",
       "      <th>price</th>\n",
       "      <th>Professional_Publication</th>\n",
       "      <th>Region_address</th>\n",
       "      <th>Local_address</th>\n",
       "    </tr>\n",
       "  </thead>\n",
       "  <tbody>\n",
       "    <tr>\n",
       "      <th>0</th>\n",
       "      <td>\"chambre a coucher \"</td>\n",
       "      <td>\"40008817\"</td>\n",
       "      <td>\"Meubles et décoration \"</td>\n",
       "      <td>1800</td>\n",
       "      <td>\"private\"</td>\n",
       "      <td>\"Grand Casablanca\"</td>\n",
       "      <td>\"Casablanca\"</td>\n",
       "    </tr>\n",
       "    <tr>\n",
       "      <th>1</th>\n",
       "      <td>\"Comte free fire\"</td>\n",
       "      <td>\"40008816\"</td>\n",
       "      <td>\"Jeux vidéo et consoles \"</td>\n",
       "      <td>0</td>\n",
       "      <td>\"private\"</td>\n",
       "      <td>\"Grand Casablanca\"</td>\n",
       "      <td>\"Casablanca\"</td>\n",
       "    </tr>\n",
       "    <tr>\n",
       "      <th>2</th>\n",
       "      <td>\"Iphone 6 plus\"</td>\n",
       "      <td>\"40008815\"</td>\n",
       "      <td>\"Téléphones \"</td>\n",
       "      <td>0</td>\n",
       "      <td>\"private\"</td>\n",
       "      <td>\"Grand Casablanca\"</td>\n",
       "      <td>\"Casablanca\"</td>\n",
       "    </tr>\n",
       "    <tr>\n",
       "      <th>3</th>\n",
       "      <td>\"Renault \"</td>\n",
       "      <td>\"40008814\"</td>\n",
       "      <td>\"Voitures \"</td>\n",
       "      <td>0</td>\n",
       "      <td>\"private\"</td>\n",
       "      <td>\"Chaouia-Ouardigha\"</td>\n",
       "      <td>\"Settat\"</td>\n",
       "    </tr>\n",
       "    <tr>\n",
       "      <th>4</th>\n",
       "      <td>\"PS3 SLIM 360 GB \"</td>\n",
       "      <td>\"40008812\"</td>\n",
       "      <td>\"Jeux vidéo et consoles \"</td>\n",
       "      <td>1400</td>\n",
       "      <td>\"private\"</td>\n",
       "      <td>\"Rabat-Salé-Zemmour-Zaër\"</td>\n",
       "      <td>\"Sala Al-Jadida\"</td>\n",
       "    </tr>\n",
       "    <tr>\n",
       "      <th>5</th>\n",
       "      <td>\"Need For Speed Heat Xbox One Neuf\"</td>\n",
       "      <td>\"39955729\"</td>\n",
       "      <td>\"Jeux vidéo et consoles \"</td>\n",
       "      <td>549</td>\n",
       "      <td>\"pro\"</td>\n",
       "      <td>\"Grand Casablanca\"</td>\n",
       "      <td>\"Casablanca\"</td>\n",
       "    </tr>\n",
       "    <tr>\n",
       "      <th>6</th>\n",
       "      <td>\"becane\"</td>\n",
       "      <td>\"40008811\"</td>\n",
       "      <td>\"Motos \"</td>\n",
       "      <td>0</td>\n",
       "      <td>\"private\"</td>\n",
       "      <td>\"Fès-Boulemane\"</td>\n",
       "      <td>\"Fès\"</td>\n",
       "    </tr>\n",
       "    <tr>\n",
       "      <th>7</th>\n",
       "      <td>\"Nikel\"</td>\n",
       "      <td>\"40008809\"</td>\n",
       "      <td>\"Voitures \"</td>\n",
       "      <td>75000</td>\n",
       "      <td>\"private\"</td>\n",
       "      <td>\"Gharb-Chrarda-Beni Hssen\"</td>\n",
       "      <td>\"Kénitra\"</td>\n",
       "    </tr>\n",
       "    <tr>\n",
       "      <th>8</th>\n",
       "      <td>\"compte free fire\"</td>\n",
       "      <td>\"40008808\"</td>\n",
       "      <td>\"Jeux vidéo et consoles \"</td>\n",
       "      <td>170</td>\n",
       "      <td>\"private\"</td>\n",
       "      <td>\"Grand Casablanca\"</td>\n",
       "      <td>\"Casablanca\"</td>\n",
       "    </tr>\n",
       "    <tr>\n",
       "      <th>9</th>\n",
       "      <td>\"Appartement\"</td>\n",
       "      <td>\"40008807\"</td>\n",
       "      <td>\"Appartements \"</td>\n",
       "      <td>0</td>\n",
       "      <td>\"private\"</td>\n",
       "      <td>\"Grand Casablanca\"</td>\n",
       "      <td>\"Casablanca\"</td>\n",
       "    </tr>\n",
       "    <tr>\n",
       "      <th>10</th>\n",
       "      <td>\"Pc Hp core i7 Double Disque Dur \"</td>\n",
       "      <td>\"40008806\"</td>\n",
       "      <td>\"Ordinateurs portables \"</td>\n",
       "      <td>5700</td>\n",
       "      <td>\"private\"</td>\n",
       "      <td>\"Tanger-Tétouan\"</td>\n",
       "      <td>\"Tanger\"</td>\n",
       "    </tr>\n",
       "    <tr>\n",
       "      <th>11</th>\n",
       "      <td>\"Chiots chihuahua croisé\"</td>\n",
       "      <td>\"39955767\"</td>\n",
       "      <td>\"Animaux \"</td>\n",
       "      <td>1300</td>\n",
       "      <td>\"private\"</td>\n",
       "      <td>\"Souss-Massa-Drâa\"</td>\n",
       "      <td>\"Agadir\"</td>\n",
       "    </tr>\n",
       "    <tr>\n",
       "      <th>12</th>\n",
       "      <td>\"grima \"</td>\n",
       "      <td>\"40008804\"</td>\n",
       "      <td>\"Business et affaires commerciales \"</td>\n",
       "      <td>0</td>\n",
       "      <td>\"private\"</td>\n",
       "      <td>\"Chaouia-Ouardigha\"</td>\n",
       "      <td>\"Settat\"</td>\n",
       "    </tr>\n",
       "    <tr>\n",
       "      <th>13</th>\n",
       "      <td>\"Chaise Gamer Raidmax DK922 RGB\"</td>\n",
       "      <td>\"36694098\"</td>\n",
       "      <td>\"Matériels professionnels \"</td>\n",
       "      <td>3390</td>\n",
       "      <td>\"pro\"</td>\n",
       "      <td>\"Grand Casablanca\"</td>\n",
       "      <td>\"Casablanca\"</td>\n",
       "    </tr>\n",
       "    <tr>\n",
       "      <th>14</th>\n",
       "      <td>\"IPhone 6s Plus 128g gold\"</td>\n",
       "      <td>\"40008803\"</td>\n",
       "      <td>\"Téléphones \"</td>\n",
       "      <td>0</td>\n",
       "      <td>\"private\"</td>\n",
       "      <td>\"Chaouia-Ouardigha\"</td>\n",
       "      <td>\"Berrechid\"</td>\n",
       "    </tr>\n",
       "    <tr>\n",
       "      <th>15</th>\n",
       "      <td>\"Samsung 30s\"</td>\n",
       "      <td>\"40008802\"</td>\n",
       "      <td>\"Téléphones \"</td>\n",
       "      <td>2000</td>\n",
       "      <td>\"private\"</td>\n",
       "      <td>\"Marrakech-Tensift-Al Haouz\"</td>\n",
       "      <td>\"Marrakech\"</td>\n",
       "    </tr>\n",
       "    <tr>\n",
       "      <th>16</th>\n",
       "      <td>\"HP 14 Celeron 2018\"</td>\n",
       "      <td>\"40008801\"</td>\n",
       "      <td>\"Ordinateurs portables \"</td>\n",
       "      <td>1800</td>\n",
       "      <td>\"pro\"</td>\n",
       "      <td>\"Tanger-Tétouan\"</td>\n",
       "      <td>\"Tanger\"</td>\n",
       "    </tr>\n",
       "    <tr>\n",
       "      <th>17</th>\n",
       "      <td>\"ancien monnaies en argent \"</td>\n",
       "      <td>\"40008799\"</td>\n",
       "      <td>\"Art et collections \"</td>\n",
       "      <td>1500</td>\n",
       "      <td>\"private\"</td>\n",
       "      <td>\"Taza-Al Hoceima-Taounate\"</td>\n",
       "      <td>\"Al Hoceima\"</td>\n",
       "    </tr>\n",
       "    <tr>\n",
       "      <th>18</th>\n",
       "      <td>\"Husky\"</td>\n",
       "      <td>\"40008798\"</td>\n",
       "      <td>\"Animaux \"</td>\n",
       "      <td>0</td>\n",
       "      <td>\"private\"</td>\n",
       "      <td>\"Rabat-Salé-Zemmour-Zaër\"</td>\n",
       "      <td>\"Temara\"</td>\n",
       "    </tr>\n",
       "    <tr>\n",
       "      <th>19</th>\n",
       "      <td>\"michael kors original\"</td>\n",
       "      <td>\"40008797\"</td>\n",
       "      <td>\"Montres et bijoux \"</td>\n",
       "      <td>1500</td>\n",
       "      <td>\"private\"</td>\n",
       "      <td>\"Grand Casablanca\"</td>\n",
       "      <td>\"Casablanca\"</td>\n",
       "    </tr>\n",
       "    <tr>\n",
       "      <th>20</th>\n",
       "      <td>\"Appartement lumineux avec vue panoramique de ...</td>\n",
       "      <td>\"39579635\"</td>\n",
       "      <td>\"Appartements \"</td>\n",
       "      <td>1200000</td>\n",
       "      <td>\"private\"</td>\n",
       "      <td>\"Grand Casablanca\"</td>\n",
       "      <td>\"Casablanca\"</td>\n",
       "    </tr>\n",
       "    <tr>\n",
       "      <th>21</th>\n",
       "      <td>\"Huawei p10 lite \"</td>\n",
       "      <td>\"39972796\"</td>\n",
       "      <td>\"Téléphones \"</td>\n",
       "      <td>1100</td>\n",
       "      <td>\"pro\"</td>\n",
       "      <td>\"Souss-Massa-Drâa\"</td>\n",
       "      <td>\"Agadir\"</td>\n",
       "    </tr>\n",
       "    <tr>\n",
       "      <th>22</th>\n",
       "      <td>\"Appartement 75 m2 à Mohammedia\"</td>\n",
       "      <td>\"37535821\"</td>\n",
       "      <td>\"Appartements \"</td>\n",
       "      <td>690000</td>\n",
       "      <td>\"private\"</td>\n",
       "      <td>\"Grand Casablanca\"</td>\n",
       "      <td>\"Mohammedia\"</td>\n",
       "    </tr>\n",
       "    <tr>\n",
       "      <th>23</th>\n",
       "      <td>\"Appartement 83 m2 à Mohammedia\"</td>\n",
       "      <td>\"37535652\"</td>\n",
       "      <td>\"Appartements \"</td>\n",
       "      <td>650000</td>\n",
       "      <td>\"private\"</td>\n",
       "      <td>\"Grand Casablanca\"</td>\n",
       "      <td>\"Mohammedia\"</td>\n",
       "    </tr>\n",
       "  </tbody>\n",
       "</table>\n",
       "</div>"
      ],
      "text/plain": [
       "                                         Product_name  Product_id  \\\n",
       "0                                \"chambre a coucher \"  \"40008817\"   \n",
       "1                                   \"Comte free fire\"  \"40008816\"   \n",
       "2                                     \"Iphone 6 plus\"  \"40008815\"   \n",
       "3                                          \"Renault \"  \"40008814\"   \n",
       "4                                  \"PS3 SLIM 360 GB \"  \"40008812\"   \n",
       "5                 \"Need For Speed Heat Xbox One Neuf\"  \"39955729\"   \n",
       "6                                            \"becane\"  \"40008811\"   \n",
       "7                                             \"Nikel\"  \"40008809\"   \n",
       "8                                  \"compte free fire\"  \"40008808\"   \n",
       "9                                       \"Appartement\"  \"40008807\"   \n",
       "10                 \"Pc Hp core i7 Double Disque Dur \"  \"40008806\"   \n",
       "11                          \"Chiots chihuahua croisé\"  \"39955767\"   \n",
       "12                                           \"grima \"  \"40008804\"   \n",
       "13                   \"Chaise Gamer Raidmax DK922 RGB\"  \"36694098\"   \n",
       "14                         \"IPhone 6s Plus 128g gold\"  \"40008803\"   \n",
       "15                                      \"Samsung 30s\"  \"40008802\"   \n",
       "16                               \"HP 14 Celeron 2018\"  \"40008801\"   \n",
       "17                       \"ancien monnaies en argent \"  \"40008799\"   \n",
       "18                                            \"Husky\"  \"40008798\"   \n",
       "19                            \"michael kors original\"  \"40008797\"   \n",
       "20  \"Appartement lumineux avec vue panoramique de ...  \"39579635\"   \n",
       "21                                 \"Huawei p10 lite \"  \"39972796\"   \n",
       "22                   \"Appartement 75 m2 à Mohammedia\"  \"37535821\"   \n",
       "23                   \"Appartement 83 m2 à Mohammedia\"  \"37535652\"   \n",
       "\n",
       "                        Product_Category    price Professional_Publication  \\\n",
       "0               \"Meubles et décoration \"     1800                \"private\"   \n",
       "1              \"Jeux vidéo et consoles \"        0                \"private\"   \n",
       "2                          \"Téléphones \"        0                \"private\"   \n",
       "3                            \"Voitures \"        0                \"private\"   \n",
       "4              \"Jeux vidéo et consoles \"     1400                \"private\"   \n",
       "5              \"Jeux vidéo et consoles \"      549                    \"pro\"   \n",
       "6                               \"Motos \"        0                \"private\"   \n",
       "7                            \"Voitures \"    75000                \"private\"   \n",
       "8              \"Jeux vidéo et consoles \"      170                \"private\"   \n",
       "9                        \"Appartements \"        0                \"private\"   \n",
       "10              \"Ordinateurs portables \"     5700                \"private\"   \n",
       "11                            \"Animaux \"     1300                \"private\"   \n",
       "12  \"Business et affaires commerciales \"        0                \"private\"   \n",
       "13           \"Matériels professionnels \"     3390                    \"pro\"   \n",
       "14                         \"Téléphones \"        0                \"private\"   \n",
       "15                         \"Téléphones \"     2000                \"private\"   \n",
       "16              \"Ordinateurs portables \"     1800                    \"pro\"   \n",
       "17                 \"Art et collections \"     1500                \"private\"   \n",
       "18                            \"Animaux \"        0                \"private\"   \n",
       "19                  \"Montres et bijoux \"     1500                \"private\"   \n",
       "20                       \"Appartements \"  1200000                \"private\"   \n",
       "21                         \"Téléphones \"     1100                    \"pro\"   \n",
       "22                       \"Appartements \"   690000                \"private\"   \n",
       "23                       \"Appartements \"   650000                \"private\"   \n",
       "\n",
       "                  Region_address     Local_address  \n",
       "0             \"Grand Casablanca\"      \"Casablanca\"  \n",
       "1             \"Grand Casablanca\"      \"Casablanca\"  \n",
       "2             \"Grand Casablanca\"      \"Casablanca\"  \n",
       "3            \"Chaouia-Ouardigha\"          \"Settat\"  \n",
       "4      \"Rabat-Salé-Zemmour-Zaër\"  \"Sala Al-Jadida\"  \n",
       "5             \"Grand Casablanca\"      \"Casablanca\"  \n",
       "6                \"Fès-Boulemane\"             \"Fès\"  \n",
       "7     \"Gharb-Chrarda-Beni Hssen\"         \"Kénitra\"  \n",
       "8             \"Grand Casablanca\"      \"Casablanca\"  \n",
       "9             \"Grand Casablanca\"      \"Casablanca\"  \n",
       "10              \"Tanger-Tétouan\"          \"Tanger\"  \n",
       "11            \"Souss-Massa-Drâa\"          \"Agadir\"  \n",
       "12           \"Chaouia-Ouardigha\"          \"Settat\"  \n",
       "13            \"Grand Casablanca\"      \"Casablanca\"  \n",
       "14           \"Chaouia-Ouardigha\"       \"Berrechid\"  \n",
       "15  \"Marrakech-Tensift-Al Haouz\"       \"Marrakech\"  \n",
       "16              \"Tanger-Tétouan\"          \"Tanger\"  \n",
       "17    \"Taza-Al Hoceima-Taounate\"      \"Al Hoceima\"  \n",
       "18     \"Rabat-Salé-Zemmour-Zaër\"          \"Temara\"  \n",
       "19            \"Grand Casablanca\"      \"Casablanca\"  \n",
       "20            \"Grand Casablanca\"      \"Casablanca\"  \n",
       "21            \"Souss-Massa-Drâa\"          \"Agadir\"  \n",
       "22            \"Grand Casablanca\"      \"Mohammedia\"  \n",
       "23            \"Grand Casablanca\"      \"Mohammedia\"  "
      ]
     },
     "execution_count": 6,
     "metadata": {},
     "output_type": "execute_result"
    }
   ],
   "source": [
    "df.fillna(0)"
   ]
  },
  {
   "cell_type": "code",
   "execution_count": 7,
   "metadata": {},
   "outputs": [
    {
     "data": {
      "text/html": [
       "<div>\n",
       "<style scoped>\n",
       "    .dataframe tbody tr th:only-of-type {\n",
       "        vertical-align: middle;\n",
       "    }\n",
       "\n",
       "    .dataframe tbody tr th {\n",
       "        vertical-align: top;\n",
       "    }\n",
       "\n",
       "    .dataframe thead th {\n",
       "        text-align: right;\n",
       "    }\n",
       "</style>\n",
       "<table border=\"1\" class=\"dataframe\">\n",
       "  <thead>\n",
       "    <tr style=\"text-align: right;\">\n",
       "      <th></th>\n",
       "      <th>price</th>\n",
       "    </tr>\n",
       "  </thead>\n",
       "  <tbody>\n",
       "    <tr>\n",
       "      <th>count</th>\n",
       "      <td>2.400000e+01</td>\n",
       "    </tr>\n",
       "    <tr>\n",
       "      <th>mean</th>\n",
       "      <td>1.098837e+05</td>\n",
       "    </tr>\n",
       "    <tr>\n",
       "      <th>std</th>\n",
       "      <td>2.988749e+05</td>\n",
       "    </tr>\n",
       "    <tr>\n",
       "      <th>min</th>\n",
       "      <td>0.000000e+00</td>\n",
       "    </tr>\n",
       "    <tr>\n",
       "      <th>25%</th>\n",
       "      <td>0.000000e+00</td>\n",
       "    </tr>\n",
       "    <tr>\n",
       "      <th>50%</th>\n",
       "      <td>1.350000e+03</td>\n",
       "    </tr>\n",
       "    <tr>\n",
       "      <th>75%</th>\n",
       "      <td>2.347500e+03</td>\n",
       "    </tr>\n",
       "    <tr>\n",
       "      <th>max</th>\n",
       "      <td>1.200000e+06</td>\n",
       "    </tr>\n",
       "  </tbody>\n",
       "</table>\n",
       "</div>"
      ],
      "text/plain": [
       "              price\n",
       "count  2.400000e+01\n",
       "mean   1.098837e+05\n",
       "std    2.988749e+05\n",
       "min    0.000000e+00\n",
       "25%    0.000000e+00\n",
       "50%    1.350000e+03\n",
       "75%    2.347500e+03\n",
       "max    1.200000e+06"
      ]
     },
     "execution_count": 7,
     "metadata": {},
     "output_type": "execute_result"
    }
   ],
   "source": [
    "df.describe()"
   ]
  },
  {
   "cell_type": "markdown",
   "metadata": {},
   "source": [
    "### Min, Max, Average price"
   ]
  },
  {
   "cell_type": "code",
   "execution_count": 18,
   "metadata": {},
   "outputs": [
    {
     "name": "stdout",
     "output_type": "stream",
     "text": [
      "Total Sum =  2637209\n",
      "Average Sum =  109883.70833333333\n",
      "Minimum price = 0\n",
      "Maximum price = 1200000\n"
     ]
    }
   ],
   "source": [
    "print(\"Total Sum = \", df[\"price\"].sum())\n",
    "print(\"Average Sum = \", df[\"price\"].mean())\n",
    "print(\"Minimum price =\", df[\"price\"].min())\n",
    "print(\"Maximum price =\", df[\"price\"].max())"
   ]
  },
  {
   "cell_type": "markdown",
   "metadata": {},
   "source": [
    "### Max value"
   ]
  },
  {
   "cell_type": "code",
   "execution_count": 19,
   "metadata": {},
   "outputs": [
    {
     "data": {
      "text/html": [
       "<div>\n",
       "<style scoped>\n",
       "    .dataframe tbody tr th:only-of-type {\n",
       "        vertical-align: middle;\n",
       "    }\n",
       "\n",
       "    .dataframe tbody tr th {\n",
       "        vertical-align: top;\n",
       "    }\n",
       "\n",
       "    .dataframe thead th {\n",
       "        text-align: right;\n",
       "    }\n",
       "</style>\n",
       "<table border=\"1\" class=\"dataframe\">\n",
       "  <thead>\n",
       "    <tr style=\"text-align: right;\">\n",
       "      <th></th>\n",
       "      <th>Product_name</th>\n",
       "      <th>Product_id</th>\n",
       "      <th>Product_Category</th>\n",
       "      <th>price</th>\n",
       "      <th>Professional_Publication</th>\n",
       "      <th>Region_address</th>\n",
       "      <th>Local_address</th>\n",
       "    </tr>\n",
       "  </thead>\n",
       "  <tbody>\n",
       "    <tr>\n",
       "      <th>20</th>\n",
       "      <td>\"Appartement lumineux avec vue panoramique de ...</td>\n",
       "      <td>\"39579635\"</td>\n",
       "      <td>\"Appartements \"</td>\n",
       "      <td>1200000</td>\n",
       "      <td>\"private\"</td>\n",
       "      <td>\"Grand Casablanca\"</td>\n",
       "      <td>\"Casablanca\"</td>\n",
       "    </tr>\n",
       "  </tbody>\n",
       "</table>\n",
       "</div>"
      ],
      "text/plain": [
       "                                         Product_name  Product_id  \\\n",
       "20  \"Appartement lumineux avec vue panoramique de ...  \"39579635\"   \n",
       "\n",
       "   Product_Category    price Professional_Publication      Region_address  \\\n",
       "20  \"Appartements \"  1200000                \"private\"  \"Grand Casablanca\"   \n",
       "\n",
       "   Local_address  \n",
       "20  \"Casablanca\"  "
      ]
     },
     "execution_count": 19,
     "metadata": {},
     "output_type": "execute_result"
    }
   ],
   "source": [
    "max_val = df[df[\"price\"] == df[\"price\"].max()]\n",
    "max_val"
   ]
  },
  {
   "cell_type": "markdown",
   "metadata": {},
   "source": [
    "### Null price values"
   ]
  },
  {
   "cell_type": "code",
   "execution_count": 21,
   "metadata": {},
   "outputs": [
    {
     "data": {
      "text/html": [
       "<div>\n",
       "<style scoped>\n",
       "    .dataframe tbody tr th:only-of-type {\n",
       "        vertical-align: middle;\n",
       "    }\n",
       "\n",
       "    .dataframe tbody tr th {\n",
       "        vertical-align: top;\n",
       "    }\n",
       "\n",
       "    .dataframe thead th {\n",
       "        text-align: right;\n",
       "    }\n",
       "</style>\n",
       "<table border=\"1\" class=\"dataframe\">\n",
       "  <thead>\n",
       "    <tr style=\"text-align: right;\">\n",
       "      <th></th>\n",
       "      <th>Product_name</th>\n",
       "      <th>Product_id</th>\n",
       "      <th>Product_Category</th>\n",
       "      <th>price</th>\n",
       "      <th>Professional_Publication</th>\n",
       "      <th>Region_address</th>\n",
       "      <th>Local_address</th>\n",
       "    </tr>\n",
       "  </thead>\n",
       "  <tbody>\n",
       "    <tr>\n",
       "      <th>1</th>\n",
       "      <td>\"Comte free fire\"</td>\n",
       "      <td>\"40008816\"</td>\n",
       "      <td>\"Jeux vidéo et consoles \"</td>\n",
       "      <td>0</td>\n",
       "      <td>\"private\"</td>\n",
       "      <td>\"Grand Casablanca\"</td>\n",
       "      <td>\"Casablanca\"</td>\n",
       "    </tr>\n",
       "    <tr>\n",
       "      <th>2</th>\n",
       "      <td>\"Iphone 6 plus\"</td>\n",
       "      <td>\"40008815\"</td>\n",
       "      <td>\"Téléphones \"</td>\n",
       "      <td>0</td>\n",
       "      <td>\"private\"</td>\n",
       "      <td>\"Grand Casablanca\"</td>\n",
       "      <td>\"Casablanca\"</td>\n",
       "    </tr>\n",
       "    <tr>\n",
       "      <th>3</th>\n",
       "      <td>\"Renault \"</td>\n",
       "      <td>\"40008814\"</td>\n",
       "      <td>\"Voitures \"</td>\n",
       "      <td>0</td>\n",
       "      <td>\"private\"</td>\n",
       "      <td>\"Chaouia-Ouardigha\"</td>\n",
       "      <td>\"Settat\"</td>\n",
       "    </tr>\n",
       "    <tr>\n",
       "      <th>6</th>\n",
       "      <td>\"becane\"</td>\n",
       "      <td>\"40008811\"</td>\n",
       "      <td>\"Motos \"</td>\n",
       "      <td>0</td>\n",
       "      <td>\"private\"</td>\n",
       "      <td>\"Fès-Boulemane\"</td>\n",
       "      <td>\"Fès\"</td>\n",
       "    </tr>\n",
       "    <tr>\n",
       "      <th>9</th>\n",
       "      <td>\"Appartement\"</td>\n",
       "      <td>\"40008807\"</td>\n",
       "      <td>\"Appartements \"</td>\n",
       "      <td>0</td>\n",
       "      <td>\"private\"</td>\n",
       "      <td>\"Grand Casablanca\"</td>\n",
       "      <td>\"Casablanca\"</td>\n",
       "    </tr>\n",
       "    <tr>\n",
       "      <th>12</th>\n",
       "      <td>\"grima \"</td>\n",
       "      <td>\"40008804\"</td>\n",
       "      <td>\"Business et affaires commerciales \"</td>\n",
       "      <td>0</td>\n",
       "      <td>\"private\"</td>\n",
       "      <td>\"Chaouia-Ouardigha\"</td>\n",
       "      <td>\"Settat\"</td>\n",
       "    </tr>\n",
       "    <tr>\n",
       "      <th>14</th>\n",
       "      <td>\"IPhone 6s Plus 128g gold\"</td>\n",
       "      <td>\"40008803\"</td>\n",
       "      <td>\"Téléphones \"</td>\n",
       "      <td>0</td>\n",
       "      <td>\"private\"</td>\n",
       "      <td>\"Chaouia-Ouardigha\"</td>\n",
       "      <td>\"Berrechid\"</td>\n",
       "    </tr>\n",
       "    <tr>\n",
       "      <th>18</th>\n",
       "      <td>\"Husky\"</td>\n",
       "      <td>\"40008798\"</td>\n",
       "      <td>\"Animaux \"</td>\n",
       "      <td>0</td>\n",
       "      <td>\"private\"</td>\n",
       "      <td>\"Rabat-Salé-Zemmour-Zaër\"</td>\n",
       "      <td>\"Temara\"</td>\n",
       "    </tr>\n",
       "  </tbody>\n",
       "</table>\n",
       "</div>"
      ],
      "text/plain": [
       "                  Product_name  Product_id  \\\n",
       "1            \"Comte free fire\"  \"40008816\"   \n",
       "2              \"Iphone 6 plus\"  \"40008815\"   \n",
       "3                   \"Renault \"  \"40008814\"   \n",
       "6                     \"becane\"  \"40008811\"   \n",
       "9                \"Appartement\"  \"40008807\"   \n",
       "12                    \"grima \"  \"40008804\"   \n",
       "14  \"IPhone 6s Plus 128g gold\"  \"40008803\"   \n",
       "18                     \"Husky\"  \"40008798\"   \n",
       "\n",
       "                        Product_Category  price Professional_Publication  \\\n",
       "1              \"Jeux vidéo et consoles \"      0                \"private\"   \n",
       "2                          \"Téléphones \"      0                \"private\"   \n",
       "3                            \"Voitures \"      0                \"private\"   \n",
       "6                               \"Motos \"      0                \"private\"   \n",
       "9                        \"Appartements \"      0                \"private\"   \n",
       "12  \"Business et affaires commerciales \"      0                \"private\"   \n",
       "14                         \"Téléphones \"      0                \"private\"   \n",
       "18                            \"Animaux \"      0                \"private\"   \n",
       "\n",
       "               Region_address Local_address  \n",
       "1          \"Grand Casablanca\"  \"Casablanca\"  \n",
       "2          \"Grand Casablanca\"  \"Casablanca\"  \n",
       "3         \"Chaouia-Ouardigha\"      \"Settat\"  \n",
       "6             \"Fès-Boulemane\"         \"Fès\"  \n",
       "9          \"Grand Casablanca\"  \"Casablanca\"  \n",
       "12        \"Chaouia-Ouardigha\"      \"Settat\"  \n",
       "14        \"Chaouia-Ouardigha\"   \"Berrechid\"  \n",
       "18  \"Rabat-Salé-Zemmour-Zaër\"      \"Temara\"  "
      ]
     },
     "execution_count": 21,
     "metadata": {},
     "output_type": "execute_result"
    }
   ],
   "source": [
    "null_price_values = df[df[\"price\"] == df[\"price\"].min()]\n",
    "null_price_values"
   ]
  },
  {
   "cell_type": "markdown",
   "metadata": {},
   "source": [
    "### Exploring product category columns"
   ]
  },
  {
   "cell_type": "code",
   "execution_count": 9,
   "metadata": {},
   "outputs": [
    {
     "data": {
      "text/plain": [
       "\"Jeux vidéo et consoles \"               4\n",
       "\"Téléphones \"                           4\n",
       "\"Appartements \"                         4\n",
       "\"Voitures \"                             2\n",
       "\"Ordinateurs portables \"                2\n",
       "\"Animaux \"                              2\n",
       "\"Meubles et décoration \"                1\n",
       "\"Motos \"                                1\n",
       "\"Business et affaires commerciales \"    1\n",
       "\"Matériels professionnels \"             1\n",
       "\"Art et collections \"                   1\n",
       "\"Montres et bijoux \"                    1\n",
       "Name: Product_Category, dtype: int64"
      ]
     },
     "execution_count": 9,
     "metadata": {},
     "output_type": "execute_result"
    }
   ],
   "source": [
    "df['Product_Category'].value_counts()"
   ]
  },
  {
   "cell_type": "code",
   "execution_count": 10,
   "metadata": {},
   "outputs": [
    {
     "data": {
      "text/plain": [
       "array(['\"Meubles et décoration \"', '\"Jeux vidéo et consoles \"',\n",
       "       '\"Téléphones \"', '\"Voitures \"', '\"Motos \"', '\"Appartements \"',\n",
       "       '\"Ordinateurs portables \"', '\"Animaux \"',\n",
       "       '\"Business et affaires commerciales \"',\n",
       "       '\"Matériels professionnels \"', '\"Art et collections \"',\n",
       "       '\"Montres et bijoux \"'], dtype=object)"
      ]
     },
     "execution_count": 10,
     "metadata": {},
     "output_type": "execute_result"
    }
   ],
   "source": [
    "df[\"Product_Category\"].unique()"
   ]
  },
  {
   "cell_type": "code",
   "execution_count": 11,
   "metadata": {},
   "outputs": [
    {
     "data": {
      "text/plain": [
       "<AxesSubplot:>"
      ]
     },
     "execution_count": 11,
     "metadata": {},
     "output_type": "execute_result"
    },
    {
     "data": {
      "image/png": "[encoded data removed]",
      "text/plain": [
       "<Figure size 432x288 with 1 Axes>"
      ]
     },
     "metadata": {
      "needs_background": "light"
     },
     "output_type": "display_data"
    }
   ],
   "source": [
    "df[\"Product_Category\"].value_counts().plot(kind = \"bar\")\n"
   ]
  },
  {
   "cell_type": "markdown",
   "metadata": {},
   "source": [
    "### Exploring profesional publication column"
   ]
  },
  {
   "cell_type": "code",
   "execution_count": 12,
   "metadata": {},
   "outputs": [
    {
     "data": {
      "text/plain": [
       "\"private\"    20\n",
       "\"pro\"         4\n",
       "Name: Professional_Publication, dtype: int64"
      ]
     },
     "execution_count": 12,
     "metadata": {},
     "output_type": "execute_result"
    }
   ],
   "source": [
    "df[\"Professional_Publication\"].value_counts()"
   ]
  },
  {
   "cell_type": "code",
   "execution_count": 13,
   "metadata": {},
   "outputs": [
    {
     "data": {
      "text/plain": [
       "<AxesSubplot:>"
      ]
     },
     "execution_count": 13,
     "metadata": {},
     "output_type": "execute_result"
    },
    {
     "data": {
      "image/png": "[encoded data removed]",
      "text/plain": [
       "<Figure size 432x288 with 1 Axes>"
      ]
     },
     "metadata": {
      "needs_background": "light"
     },
     "output_type": "display_data"
    }
   ],
   "source": [
    "df[\"Professional_Publication\"].value_counts().plot(kind = \"bar\")"
   ]
  },
  {
   "cell_type": "markdown",
   "metadata": {},
   "source": [
    "### Exploring regional address column"
   ]
  },
  {
   "cell_type": "code",
   "execution_count": 14,
   "metadata": {},
   "outputs": [
    {
     "data": {
      "text/plain": [
       "\"Grand Casablanca\"              11\n",
       "\"Chaouia-Ouardigha\"              3\n",
       "\"Rabat-Salé-Zemmour-Zaër\"        2\n",
       "\"Tanger-Tétouan\"                 2\n",
       "\"Souss-Massa-Drâa\"               2\n",
       "\"Fès-Boulemane\"                  1\n",
       "\"Gharb-Chrarda-Beni Hssen\"       1\n",
       "\"Marrakech-Tensift-Al Haouz\"     1\n",
       "\"Taza-Al Hoceima-Taounate\"       1\n",
       "Name: Region_address, dtype: int64"
      ]
     },
     "execution_count": 14,
     "metadata": {},
     "output_type": "execute_result"
    }
   ],
   "source": [
    "df[\"Region_address\"].value_counts()"
   ]
  },
  {
   "cell_type": "markdown",
   "metadata": {},
   "source": [
    "As we can see here, most of the orders are placed from \"Grand Casablanca\" (11).\n",
    "Least amount of orders are placed from \"Taza-Al Hoceima-Taounate\" (1)."
   ]
  },
  {
   "cell_type": "markdown",
   "metadata": {},
   "source": [
    "### Exploring local address column"
   ]
  },
  {
   "cell_type": "code",
   "execution_count": 15,
   "metadata": {},
   "outputs": [
    {
     "data": {
      "text/plain": [
       "\"Casablanca\"        9\n",
       "\"Settat\"            2\n",
       "\"Tanger\"            2\n",
       "\"Agadir\"            2\n",
       "\"Mohammedia\"        2\n",
       "\"Sala Al-Jadida\"    1\n",
       "\"Fès\"               1\n",
       "\"Kénitra\"           1\n",
       "\"Berrechid\"         1\n",
       "\"Marrakech\"         1\n",
       "\"Al Hoceima\"        1\n",
       "\"Temara\"            1\n",
       "Name: Local_address, dtype: int64"
      ]
     },
     "execution_count": 15,
     "metadata": {},
     "output_type": "execute_result"
    }
   ],
   "source": [
    "df[\"Local_address\"].value_counts()"
   ]
  },
  {
   "cell_type": "markdown",
   "metadata": {},
   "source": [
    "Here, also most of the orders are placed from \"Casablanca\" (9)"
   ]
  }
 ],
 "metadata": {
  "kernelspec": {
   "display_name": "Python 3.10.4 ('ml')",
   "language": "python",
   "name": "python3"
  },
  "language_info": {
   "codemirror_mode": {
    "name": "ipython",
    "version": 3
   },
   "file_extension": ".py",
   "mimetype": "text/x-python",
   "name": "python",
   "nbconvert_exporter": "python",
   "pygments_lexer": "ipython3",
   "version": "3.10.4"
  },
  "orig_nbformat": 4,
  "vscode": {
   "interpreter": {
    "hash": "31d7989649452b8ff5b252a3e34caf45e4ffd8a5787fe28fc2ce0245f11b7782"
   }
  }
 },
 "nbformat": 4,
 "nbformat_minor": 2
}
